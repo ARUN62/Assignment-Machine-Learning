{
  "nbformat": 4,
  "nbformat_minor": 0,
  "metadata": {
    "colab": {
      "name": "MIT2020116_ML Assignment 2_Q1(part - II).ipynb",
      "provenance": [],
      "collapsed_sections": []
    },
    "kernelspec": {
      "display_name": "Python 3",
      "language": "python",
      "name": "python3"
    },
    "language_info": {
      "codemirror_mode": {
        "name": "ipython",
        "version": 3
      },
      "file_extension": ".py",
      "mimetype": "text/x-python",
      "name": "python",
      "nbconvert_exporter": "python",
      "pygments_lexer": "ipython3",
      "version": "3.8.5"
    }
  },
  "cells": [
    {
      "cell_type": "code",
      "metadata": {
        "id": "WL4YUtyX0LDR"
      },
      "source": [
        "#i) Plot a graph of accuracy vs. the number of hidden units.(64,128,256,512)\n",
        "#ii) Plot a graph of accuracy vs. activation function.(Relu,logistic sigmoid,tanh,leaky Relu)\n",
        "#iii) Plot a graph comparing the following three loss functions vs accuracy"
      ],
      "execution_count": null,
      "outputs": []
    },
    {
      "cell_type": "code",
      "metadata": {
        "id": "6Y2D4teeDKQh"
      },
      "source": [
        "import numpy as np\n",
        "import pandas as pd\n",
        "import seaborn as sns\n",
        "import matplotlib.pyplot as plt\n",
        "from sklearn.model_selection import train_test_split\n",
        "from sklearn.metrics import confusion_matrix\n",
        "from sklearn.preprocessing import LabelEncoder\n",
        "from sklearn.preprocessing import StandardScaler"
      ],
      "execution_count": null,
      "outputs": []
    },
    {
      "cell_type": "code",
      "metadata": {
        "colab": {
          "base_uri": "https://localhost:8080/",
          "height": 452
        },
        "id": "8XGOMyF2Dxk7",
        "outputId": "08622893-66a6-4711-ba41-979793a4c6aa"
      },
      "source": [
        "\n",
        "\n",
        "#Check observation one by one different dataset remove comment part and see observations\n",
        "\n",
        "\n",
        "data = pd.read_csv(\"https://raw.githubusercontent.com/psantul/Dataset/main/data.csv\", encoding='latin-1')\n",
        "#data = pd.read_csv(\"https://raw.githubusercontent.com/psantul/Dataset/main/titanic.csv\",delimiter = ',', encoding='latin-1')\n",
        "print(data.shape)\n",
        "data.head()"
      ],
      "execution_count": null,
      "outputs": [
        {
          "output_type": "stream",
          "text": [
            "(569, 33)\n"
          ],
          "name": "stdout"
        },
        {
          "output_type": "execute_result",
          "data": {
            "text/html": [
              "<div>\n",
              "<style scoped>\n",
              "    .dataframe tbody tr th:only-of-type {\n",
              "        vertical-align: middle;\n",
              "    }\n",
              "\n",
              "    .dataframe tbody tr th {\n",
              "        vertical-align: top;\n",
              "    }\n",
              "\n",
              "    .dataframe thead th {\n",
              "        text-align: right;\n",
              "    }\n",
              "</style>\n",
              "<table border=\"1\" class=\"dataframe\">\n",
              "  <thead>\n",
              "    <tr style=\"text-align: right;\">\n",
              "      <th></th>\n",
              "      <th>id</th>\n",
              "      <th>diagnosis</th>\n",
              "      <th>radius_mean</th>\n",
              "      <th>texture_mean</th>\n",
              "      <th>perimeter_mean</th>\n",
              "      <th>area_mean</th>\n",
              "      <th>smoothness_mean</th>\n",
              "      <th>compactness_mean</th>\n",
              "      <th>concavity_mean</th>\n",
              "      <th>concave points_mean</th>\n",
              "      <th>...</th>\n",
              "      <th>texture_worst</th>\n",
              "      <th>perimeter_worst</th>\n",
              "      <th>area_worst</th>\n",
              "      <th>smoothness_worst</th>\n",
              "      <th>compactness_worst</th>\n",
              "      <th>concavity_worst</th>\n",
              "      <th>concave points_worst</th>\n",
              "      <th>symmetry_worst</th>\n",
              "      <th>fractal_dimension_worst</th>\n",
              "      <th>Unnamed: 32</th>\n",
              "    </tr>\n",
              "  </thead>\n",
              "  <tbody>\n",
              "    <tr>\n",
              "      <th>0</th>\n",
              "      <td>842302</td>\n",
              "      <td>M</td>\n",
              "      <td>17.99</td>\n",
              "      <td>10.38</td>\n",
              "      <td>122.80</td>\n",
              "      <td>1001.0</td>\n",
              "      <td>0.11840</td>\n",
              "      <td>0.27760</td>\n",
              "      <td>0.3001</td>\n",
              "      <td>0.14710</td>\n",
              "      <td>...</td>\n",
              "      <td>17.33</td>\n",
              "      <td>184.60</td>\n",
              "      <td>2019.0</td>\n",
              "      <td>0.1622</td>\n",
              "      <td>0.6656</td>\n",
              "      <td>0.7119</td>\n",
              "      <td>0.2654</td>\n",
              "      <td>0.4601</td>\n",
              "      <td>0.11890</td>\n",
              "      <td>NaN</td>\n",
              "    </tr>\n",
              "    <tr>\n",
              "      <th>1</th>\n",
              "      <td>842517</td>\n",
              "      <td>M</td>\n",
              "      <td>20.57</td>\n",
              "      <td>17.77</td>\n",
              "      <td>132.90</td>\n",
              "      <td>1326.0</td>\n",
              "      <td>0.08474</td>\n",
              "      <td>0.07864</td>\n",
              "      <td>0.0869</td>\n",
              "      <td>0.07017</td>\n",
              "      <td>...</td>\n",
              "      <td>23.41</td>\n",
              "      <td>158.80</td>\n",
              "      <td>1956.0</td>\n",
              "      <td>0.1238</td>\n",
              "      <td>0.1866</td>\n",
              "      <td>0.2416</td>\n",
              "      <td>0.1860</td>\n",
              "      <td>0.2750</td>\n",
              "      <td>0.08902</td>\n",
              "      <td>NaN</td>\n",
              "    </tr>\n",
              "    <tr>\n",
              "      <th>2</th>\n",
              "      <td>84300903</td>\n",
              "      <td>M</td>\n",
              "      <td>19.69</td>\n",
              "      <td>21.25</td>\n",
              "      <td>130.00</td>\n",
              "      <td>1203.0</td>\n",
              "      <td>0.10960</td>\n",
              "      <td>0.15990</td>\n",
              "      <td>0.1974</td>\n",
              "      <td>0.12790</td>\n",
              "      <td>...</td>\n",
              "      <td>25.53</td>\n",
              "      <td>152.50</td>\n",
              "      <td>1709.0</td>\n",
              "      <td>0.1444</td>\n",
              "      <td>0.4245</td>\n",
              "      <td>0.4504</td>\n",
              "      <td>0.2430</td>\n",
              "      <td>0.3613</td>\n",
              "      <td>0.08758</td>\n",
              "      <td>NaN</td>\n",
              "    </tr>\n",
              "    <tr>\n",
              "      <th>3</th>\n",
              "      <td>84348301</td>\n",
              "      <td>M</td>\n",
              "      <td>11.42</td>\n",
              "      <td>20.38</td>\n",
              "      <td>77.58</td>\n",
              "      <td>386.1</td>\n",
              "      <td>0.14250</td>\n",
              "      <td>0.28390</td>\n",
              "      <td>0.2414</td>\n",
              "      <td>0.10520</td>\n",
              "      <td>...</td>\n",
              "      <td>26.50</td>\n",
              "      <td>98.87</td>\n",
              "      <td>567.7</td>\n",
              "      <td>0.2098</td>\n",
              "      <td>0.8663</td>\n",
              "      <td>0.6869</td>\n",
              "      <td>0.2575</td>\n",
              "      <td>0.6638</td>\n",
              "      <td>0.17300</td>\n",
              "      <td>NaN</td>\n",
              "    </tr>\n",
              "    <tr>\n",
              "      <th>4</th>\n",
              "      <td>84358402</td>\n",
              "      <td>M</td>\n",
              "      <td>20.29</td>\n",
              "      <td>14.34</td>\n",
              "      <td>135.10</td>\n",
              "      <td>1297.0</td>\n",
              "      <td>0.10030</td>\n",
              "      <td>0.13280</td>\n",
              "      <td>0.1980</td>\n",
              "      <td>0.10430</td>\n",
              "      <td>...</td>\n",
              "      <td>16.67</td>\n",
              "      <td>152.20</td>\n",
              "      <td>1575.0</td>\n",
              "      <td>0.1374</td>\n",
              "      <td>0.2050</td>\n",
              "      <td>0.4000</td>\n",
              "      <td>0.1625</td>\n",
              "      <td>0.2364</td>\n",
              "      <td>0.07678</td>\n",
              "      <td>NaN</td>\n",
              "    </tr>\n",
              "  </tbody>\n",
              "</table>\n",
              "<p>5 rows × 33 columns</p>\n",
              "</div>"
            ],
            "text/plain": [
              "         id diagnosis  radius_mean  texture_mean  perimeter_mean  area_mean  \\\n",
              "0    842302         M        17.99         10.38          122.80     1001.0   \n",
              "1    842517         M        20.57         17.77          132.90     1326.0   \n",
              "2  84300903         M        19.69         21.25          130.00     1203.0   \n",
              "3  84348301         M        11.42         20.38           77.58      386.1   \n",
              "4  84358402         M        20.29         14.34          135.10     1297.0   \n",
              "\n",
              "   smoothness_mean  compactness_mean  concavity_mean  concave points_mean  \\\n",
              "0          0.11840           0.27760          0.3001              0.14710   \n",
              "1          0.08474           0.07864          0.0869              0.07017   \n",
              "2          0.10960           0.15990          0.1974              0.12790   \n",
              "3          0.14250           0.28390          0.2414              0.10520   \n",
              "4          0.10030           0.13280          0.1980              0.10430   \n",
              "\n",
              "   ...  texture_worst  perimeter_worst  area_worst  smoothness_worst  \\\n",
              "0  ...          17.33           184.60      2019.0            0.1622   \n",
              "1  ...          23.41           158.80      1956.0            0.1238   \n",
              "2  ...          25.53           152.50      1709.0            0.1444   \n",
              "3  ...          26.50            98.87       567.7            0.2098   \n",
              "4  ...          16.67           152.20      1575.0            0.1374   \n",
              "\n",
              "   compactness_worst  concavity_worst  concave points_worst  symmetry_worst  \\\n",
              "0             0.6656           0.7119                0.2654          0.4601   \n",
              "1             0.1866           0.2416                0.1860          0.2750   \n",
              "2             0.4245           0.4504                0.2430          0.3613   \n",
              "3             0.8663           0.6869                0.2575          0.6638   \n",
              "4             0.2050           0.4000                0.1625          0.2364   \n",
              "\n",
              "   fractal_dimension_worst  Unnamed: 32  \n",
              "0                  0.11890          NaN  \n",
              "1                  0.08902          NaN  \n",
              "2                  0.08758          NaN  \n",
              "3                  0.17300          NaN  \n",
              "4                  0.07678          NaN  \n",
              "\n",
              "[5 rows x 33 columns]"
            ]
          },
          "metadata": {
            "tags": []
          },
          "execution_count": 3
        }
      ]
    },
    {
      "cell_type": "code",
      "metadata": {
        "id": "p0V56ipl0LDZ"
      },
      "source": [
        "x = data.iloc[:,3:].values\n",
        "y = data.iloc[:,1].values"
      ],
      "execution_count": null,
      "outputs": []
    },
    {
      "cell_type": "code",
      "metadata": {
        "id": "w5qywpYu0LDb"
      },
      "source": [
        "encoder = LabelEncoder()\n",
        "y = encoder.fit_transform(y)"
      ],
      "execution_count": null,
      "outputs": []
    },
    {
      "cell_type": "code",
      "metadata": {
        "id": "s2BvzB9IMwPO"
      },
      "source": [
        "X_train, X_test, y_train, y_test = train_test_split(x, y, test_size = 0.2, random_state = 0)"
      ],
      "execution_count": null,
      "outputs": []
    },
    {
      "cell_type": "code",
      "metadata": {
        "colab": {
          "base_uri": "https://localhost:8080/"
        },
        "id": "Kfvj1ojoPOk1",
        "outputId": "02eaf5c1-cf5d-4080-8c8c-94064962e7a0"
      },
      "source": [
        "print(X_train.shape)\n",
        "print(y_train.shape)\n",
        "print(X_test.shape)\n",
        "print(y_test.shape)"
      ],
      "execution_count": null,
      "outputs": [
        {
          "output_type": "stream",
          "text": [
            "(455, 29)\n",
            "(455,)\n",
            "(114, 29)\n",
            "(114,)\n"
          ],
          "name": "stdout"
        }
      ]
    },
    {
      "cell_type": "code",
      "metadata": {
        "id": "4eesahMST0Rd"
      },
      "source": [
        "X_train = np.array(X_train)\n",
        "X_test = np.array(X_test)\n",
        "y_train = np.array(y_train)\n",
        "y_test = np.array(y_test)"
      ],
      "execution_count": null,
      "outputs": []
    },
    {
      "cell_type": "code",
      "metadata": {
        "colab": {
          "base_uri": "https://localhost:8080/"
        },
        "id": "5PLmTy5BXyHh",
        "outputId": "52d40f99-ce6e-45b9-fc9b-0abcc6ac039d"
      },
      "source": [
        "np.unique(y_train)"
      ],
      "execution_count": null,
      "outputs": [
        {
          "output_type": "execute_result",
          "data": {
            "text/plain": [
              "array([0, 1])"
            ]
          },
          "metadata": {
            "tags": []
          },
          "execution_count": 10
        }
      ]
    },
    {
      "cell_type": "code",
      "metadata": {
        "id": "w8a2A8mxPP6Y"
      },
      "source": [
        "nn_input_dim = X_train.shape[1]\n",
        "nn_output_dim = len(np.unique(y_train))\n",
        "lr = 0.01"
      ],
      "execution_count": null,
      "outputs": []
    },
    {
      "cell_type": "code",
      "metadata": {
        "id": "EOOxUS2SPV2e"
      },
      "source": [
        "# helper function to calculate total loss on the dataset\n",
        "def calculate_loss(model, X, y):\n",
        "  num_examples = X.shape[0]\n",
        "  W1 = model['W1']\n",
        "  b1 = model['b1']\n",
        "  W2 = model['W2']\n",
        "  b2 = model['b2']\n",
        "  # forward propagation to calculate out predictions\n",
        "  z1 = X.dot(W1) + b1\n",
        "  a1 = np.tanh(z1)\n",
        "  z2 = a1.dot(W2) + b2\n",
        "  exp_scores = np.exp(z2)\n",
        "  probs = exp_scores / np.sum(exp_scores, axis=1, keepdims=True)\n",
        "  # Calculating the loss\n",
        "  corect_logprobs = -np.log(probs[range(num_examples), y])\n",
        "  data_loss = np.sum(corect_logprobs)\n",
        "  return 1. / num_examples * data_loss"
      ],
      "execution_count": null,
      "outputs": []
    },
    {
      "cell_type": "code",
      "metadata": {
        "id": "CZDUsp6bPXBR"
      },
      "source": [
        "def predict(model, x):\n",
        "  W1 = model['W1']\n",
        "  b1 = model['b1']\n",
        "  W2 = model['W2']\n",
        "  b2 = model['b2']\n",
        "  \n",
        "\n",
        "  # Forward propagation\n",
        "  z1 = x.dot(W1) + b1\n",
        "  a1 = np.tanh(z1)\n",
        "  z2 = a1.dot(W2) + b2\n",
        "  exp_scores = np.exp(z2)\n",
        "  probs = exp_scores / np.sum(exp_scores, axis=1, keepdims=True)\n",
        "  return np.argmax(probs, axis=1)"
      ],
      "execution_count": null,
      "outputs": []
    },
    {
      "cell_type": "code",
      "metadata": {
        "id": "sf4osImuPZxg"
      },
      "source": [
        "# (Relu,logistic sigmoid,tanh,leaky Relu) \n",
        "\n",
        "def relu(x):\n",
        "  x[x<0]=0\n",
        "  return x\n",
        "\n",
        "def logsig(x):\n",
        "  return 1/(1 + np.exp(-x))\n",
        "\n",
        "def tanh(x):\n",
        "  return np.tanh(x)\n",
        "\n",
        "def leaky_relu(x):\n",
        "  x[x<0] *= 0.01\n",
        "  return x\n",
        "\n",
        "def build_model(X, y, nn_hdim, num_passes = 10000, print_loss=False):\n",
        "  \n",
        "  num_examples = X.shape[0]\n",
        "  np.random.seed(0)\n",
        "  W1 = np.random.rand(nn_input_dim, nn_hdim) / np.sqrt(nn_input_dim)\n",
        "  b1 = np.zeros((1, nn_hdim))\n",
        "  W2 = np.random.rand(nn_hdim, nn_output_dim) / np.sqrt(nn_hdim)\n",
        "  b2 = np.zeros((1, nn_output_dim))\n",
        "  model = {}\n",
        "  losses = []\n",
        "  \n",
        "  # Gradient descent. for each batch\n",
        "  for i in range(0, num_passes):\n",
        "    \n",
        "    \n",
        "    # Forward propagation\n",
        "    z1 = X.dot(W1) + b1\n",
        "    a1 = tanh(z1)\n",
        "    z2 = a1.dot(W2) + b2\n",
        "    exp_scores = np.exp(z2)\n",
        "    probs = exp_scores / np.sum(np.array(exp_scores), axis=1, keepdims=True)\n",
        "\n",
        "    # Backpropagation\n",
        "    delta3 = np.array(probs)\n",
        "    delta3[range(num_examples), y] -= 1\n",
        "    dW2 = (a1.T).dot(delta3)\n",
        "    db2 = np.sum(delta3, axis=0, keepdims=True)\n",
        "    delta2 = delta3.dot(W2.T) * (1 - np.power(a1, 2))\n",
        "    dW1 = np.dot(X.T, delta2)\n",
        "    db1 = np.sum(delta2, axis=0)\n",
        "\n",
        "    # Gradient descent parameter update\n",
        "    W1 += -lr * dW1\n",
        "    b1 += -lr * db1\n",
        "    W2 += -lr * dW2\n",
        "    b2 += -lr * db2\n",
        "    \n",
        "    \n",
        "    # Assign new parameters to the model\n",
        "    model = {'W1': W1, 'b1': b1, 'W2': W2, 'b2': b2}\n",
        "    \n",
        "    if print_loss and i % 1000 == 0:\n",
        "      loss = calculate_loss(model, X, y)\n",
        "      losses.append(loss)\n",
        "      print(\"Loss after iteration %i: %f\" % (i, loss))\n",
        "\n",
        "  return model, losses"
      ],
      "execution_count": null,
      "outputs": []
    },
    {
      "cell_type": "code",
      "metadata": {
        "colab": {
          "base_uri": "https://localhost:8080/",
          "height": 413
        },
        "id": "u1pA61QoPbd3",
        "outputId": "ceed7556-bcc2-4094-aea1-3909dd47139e"
      },
      "source": [
        "x = []\n",
        "y = []\n",
        "\n",
        "for nodes in [64, 128, 256, 512]:\n",
        "  print('\\n for {} number of nodes'.format(nodes))\n",
        "  model, loss = build_model((X_train),(y_train), nodes, print_loss=True)\n",
        "  preds = predict(model, X_test)\n",
        "  acc = ((preds == y_test).sum() / len(y_test)) * 100\n",
        "  x.append(nodes)\n",
        "  y.append(acc)\n",
        "\n",
        "plt.xlabel('number of nodes')\n",
        "plt.ylabel('accuracy')\n",
        "plt.title('using {} activation function'.format('leaky_relu'))  # place of relu changes logsig,tanh,leaky_relu: Different loss result shown in graph and accuracy\n",
        "plt.plot(x, y)"
      ],
      "execution_count": null,
      "outputs": [
        {
          "output_type": "stream",
          "text": [
            "\n",
            " for 64 number of nodes\n",
            "Loss after iteration 0: 34.857809\n",
            "Loss after iteration 1000: 39.801998\n",
            "Loss after iteration 2000: 78.826098\n",
            "Loss after iteration 3000: 38.325864\n",
            "Loss after iteration 4000: 74.413021\n",
            "Loss after iteration 5000: 96.303422\n",
            "Loss after iteration 6000: 79.858234\n",
            "Loss after iteration 7000: 76.138892\n",
            "Loss after iteration 8000: 13.618923\n",
            "Loss after iteration 9000: 132.255921\n",
            "\n",
            " for 128 number of nodes\n",
            "Loss after iteration 0: 70.733648\n",
            "Loss after iteration 1000: 9.831349\n",
            "Loss after iteration 2000: 6.627268\n",
            "Loss after iteration 3000: 202.946604\n",
            "Loss after iteration 4000: 185.200636\n",
            "Loss after iteration 5000: 22.813713\n",
            "Loss after iteration 6000: 57.549170\n",
            "Loss after iteration 7000: 81.761277\n",
            "Loss after iteration 8000: 182.897264\n",
            "Loss after iteration 9000: 187.984353\n",
            "\n",
            " for 256 number of nodes\n",
            "Loss after iteration 0: 73.987556\n"
          ],
          "name": "stdout"
        },
        {
          "output_type": "stream",
          "text": [
            "<ipython-input-14-85efc97c068e>:36: RuntimeWarning: overflow encountered in exp\n",
            "  exp_scores = np.exp(z2)\n",
            "<ipython-input-14-85efc97c068e>:37: RuntimeWarning: invalid value encountered in true_divide\n",
            "  probs = exp_scores / np.sum(np.array(exp_scores), axis=1, keepdims=True)\n"
          ],
          "name": "stderr"
        },
        {
          "output_type": "stream",
          "text": [
            "Loss after iteration 1000: nan\n",
            "Loss after iteration 2000: nan\n",
            "Loss after iteration 3000: nan\n",
            "Loss after iteration 4000: nan\n",
            "Loss after iteration 5000: nan\n",
            "Loss after iteration 6000: nan\n",
            "Loss after iteration 7000: nan\n",
            "Loss after iteration 8000: nan\n",
            "Loss after iteration 9000: nan\n",
            "\n",
            " for 512 number of nodes\n",
            "Loss after iteration 0: 136.086092\n",
            "Loss after iteration 1000: nan\n",
            "Loss after iteration 2000: nan\n",
            "Loss after iteration 3000: nan\n",
            "Loss after iteration 4000: nan\n",
            "Loss after iteration 5000: nan\n",
            "Loss after iteration 6000: nan\n",
            "Loss after iteration 7000: nan\n",
            "Loss after iteration 8000: nan\n",
            "Loss after iteration 9000: nan\n"
          ],
          "name": "stdout"
        },
        {
          "output_type": "execute_result",
          "data": {
            "text/plain": [
              "[<matplotlib.lines.Line2D at 0x24fb82259a0>]"
            ]
          },
          "metadata": {
            "tags": []
          },
          "execution_count": 15
        },
        {
          "output_type": "display_data",
          "data": {
            "image/png": "[encoded data removed]",
            "text/plain": [
              "<Figure size 432x288 with 1 Axes>"
            ]
          },
          "metadata": {
            "tags": [],
            "needs_background": "light"
          }
        }
      ]
    },
    {
      "cell_type": "code",
      "metadata": {
        "id": "CpxrGBqxPeOK"
      },
      "source": [
        ""
      ],
      "execution_count": null,
      "outputs": []
    }
  ]
}